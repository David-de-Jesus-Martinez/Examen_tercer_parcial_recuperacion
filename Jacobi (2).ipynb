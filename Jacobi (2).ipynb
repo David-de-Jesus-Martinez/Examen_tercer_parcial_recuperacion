{
  "nbformat": 4,
  "nbformat_minor": 0,
  "metadata": {
    "colab": {
      "name": "Untitled10.ipynb",
      "provenance": []
    },
    "kernelspec": {
      "name": "python3",
      "display_name": "Python 3"
    }
  },
  "cells": [
    {
      "cell_type": "code",
      "metadata": {
        "id": "Dogd7e9cRunq"
      },
      "source": [
        "import numpy as np"
      ],
      "execution_count": 1,
      "outputs": []
    },
    {
      "cell_type": "code",
      "metadata": {
        "id": "JDuu0EOXkFzi"
      },
      "source": [
        "import matplotlib.pyplot as plt"
      ],
      "execution_count": 4,
      "outputs": []
    },
    {
      "cell_type": "code",
      "metadata": {
        "id": "i-H8exWkTxh5"
      },
      "source": [
        "def jacobi(A,b,x0,criterio_paro=0.0001,n=50):\r\n",
        "  D=np.diag(np.diag(A))\r\n",
        "  LU = A - D\r\n",
        "  x=x0\r\n",
        "  for i in range(n):\r\n",
        "    D_inv = np.linalg.inv(D)\r\n",
        "    x_anterior = x\r\n",
        "    x = (D_inv @ (-LU) @ x) + D_inv @ b\r\n",
        "    print('paso: ',i,'-x: ',x)\r\n",
        "\r\n",
        "    if(np.linalg.norm(x - x_anterior)<criterio_paro):\r\n",
        "      return(x)\r\n",
        "  print(\"No se alcanzó convergencia.\")\r\n",
        "  return(x)"
      ],
      "execution_count": 2,
      "outputs": []
    },
    {
      "cell_type": "code",
      "metadata": {
        "colab": {
          "base_uri": "https://localhost:8080/"
        },
        "id": "SSThafj1T_ck",
        "outputId": "cf8c4d9e-fa69-480b-94fe-995076481558"
      },
      "source": [
        "A = np.array([\r\n",
        "              [-10,1,4],\r\n",
        "              [2,9,1],\r\n",
        "              [3,2,5]\r\n",
        "])\r\n",
        "b = np.array([3,6,7])\r\n",
        "x0 = np.random.rand(3)\r\n",
        "x=jacobi(A,b,x0,10**(-4),50)\r\n",
        "print('x: ',x)\r\n",
        "print('b calculando: ',A @ x)\r\n",
        "print('b verdadero: ',b)\r\n",
        "print('solucion de numpy: ',np.linalg.solve(A,b))"
      ],
      "execution_count": 3,
      "outputs": [
        {
          "output_type": "stream",
          "text": [
            "paso:  0 -x:  [-0.25608148  0.59804173  1.218379  ]\n",
            "paso:  1 -x:  [0.24715577 0.58819822 1.3144322 ]\n",
            "paso:  2 -x:  [0.2845927  0.46569514 1.01642725]\n",
            "paso:  3 -x:  [0.15314041 0.49048748 1.04296632]\n",
            "paso:  4 -x:  [0.16623528 0.51675032 1.11192076]\n",
            "paso:  5 -x:  [0.19644334 0.50617874 1.09355871]\n",
            "paso:  6 -x:  [0.18804136 0.50150607 1.0796625 ]\n",
            "paso:  7 -x:  [0.18201561 0.5049172  1.08657276]\n",
            "paso:  8 -x:  [0.18512082 0.50548845 1.08882376]\n",
            "paso:  9 -x:  [0.18607835 0.50454829 1.08673213]\n",
            "paso:  10 -x:  [0.18514768 0.50456791 1.08653368]\n",
            "paso:  11 -x:  [0.18507026 0.50479677 1.08708423]\n",
            "paso:  12 -x:  [0.18531337 0.50475281 1.08703913]\n",
            "paso:  13 -x:  [0.18529093 0.50470379 1.08691086]\n",
            "paso:  14 -x:  [0.18523472 0.50472303 1.08694392]\n",
            "x:  [0.18523472 0.50472303 1.08694392]\n",
            "b calculando:  [3.0001515  5.99992064 6.99986984]\n",
            "b verdadero:  [3 6 7]\n",
            "solucion de numpy:  [0.1852552  0.5047259  1.08695652]\n"
          ],
          "name": "stdout"
        }
      ]
    },
    {
      "cell_type": "code",
      "metadata": {
        "colab": {
          "base_uri": "https://localhost:8080/",
          "height": 265
        },
        "id": "NxL7NGaYkRNm",
        "outputId": "2382b966-f358-4409-972c-c0a1c32e2626"
      },
      "source": [
        "plt.plot(x)\r\n",
        "plt.show()"
      ],
      "execution_count": 11,
      "outputs": [
        {
          "output_type": "display_data",
          "data": {
            "image/png": "[encoded data removed]",
            "text/plain": [
              "<Figure size 432x288 with 1 Axes>"
            ]
          },
          "metadata": {
            "tags": [],
            "needs_background": "light"
          }
        }
      ]
    }
  ]
}