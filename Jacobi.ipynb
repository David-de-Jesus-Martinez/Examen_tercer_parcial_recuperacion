{
  "nbformat": 4,
  "nbformat_minor": 0,
  "metadata": {
    "colab": {
      "name": "Untitled10.ipynb",
      "provenance": []
    },
    "kernelspec": {
      "name": "python3",
      "display_name": "Python 3"
    }
  },
  "cells": [
    {
      "cell_type": "code",
      "metadata": {
        "id": "Dogd7e9cRunq"
      },
      "source": [
        "import numpy as np"
      ],
      "execution_count": 1,
      "outputs": []
    },
    {
      "cell_type": "code",
      "metadata": {
        "id": "i-H8exWkTxh5"
      },
      "source": [
        "def jacobi(A,b,x0,criterio_paro=0.0001,n=50):\r\n",
        "  D=np.diag(np.diag(A))\r\n",
        "  LU = A - D\r\n",
        "  x=x0\r\n",
        "  for i in range(n):\r\n",
        "    D_inv = np.linalg.inv(D)\r\n",
        "    x_anterior = x\r\n",
        "    x = (D_inv @ (-LU) @ x) + D_inv @ b\r\n",
        "    print('paso: ',i,'-x: ',x)\r\n",
        "\r\n",
        "    if(np.linalg.norm(x - x_anterior)<criterio_paro):\r\n",
        "      return(x)\r\n",
        "  print(\"No se alcanzó convergencia.\")\r\n",
        "  return(x)"
      ],
      "execution_count": 4,
      "outputs": []
    },
    {
      "cell_type": "code",
      "metadata": {
        "colab": {
          "base_uri": "https://localhost:8080/"
        },
        "id": "SSThafj1T_ck",
        "outputId": "1daf827d-300b-4227-870e-e9eb7b24d571"
      },
      "source": [
        "A = np.array([\r\n",
        "              [-10,1,4],\r\n",
        "              [2,9,1],\r\n",
        "              [3,2,5]\r\n",
        "])\r\n",
        "b = np.array([3,6,7])\r\n",
        "x0 = np.random.rand(3)\r\n",
        "x=jacobi(A,b,x0,10**(-4),50)\r\n",
        "print('x: ',x)\r\n",
        "print('b calculando: ',A @ x)\r\n",
        "print('b verdadero: ',b)\r\n",
        "print('solucion de numpy: ',np.linalg.solve(A,b))"
      ],
      "execution_count": 7,
      "outputs": [
        {
          "output_type": "stream",
          "text": [
            "paso:  0 -x:  [-0.21029789  0.44258898  0.81747423]\n",
            "paso:  1 -x:  [0.07124859 0.62256906 1.34914314]\n",
            "paso:  2 -x:  [0.30191416 0.50092885 1.10822322]\n",
            "paso:  3 -x:  [0.19338217 0.47643872 1.01847996]\n",
            "paso:  4 -x:  [0.15503586 0.51052841 1.09339521]\n",
            "paso:  5 -x:  [0.18841092 0.5107259  1.10276712]\n",
            "paso:  6 -x:  [0.19217944 0.50226789 1.08266309]\n",
            "paso:  7 -x:  [0.18329202 0.50366423 1.08378518]\n",
            "paso:  8 -x:  [0.18388049 0.50551453 1.0885591 ]\n",
            "paso:  9 -x:  [0.18597509 0.50485332 1.08746589]\n",
            "paso:  10 -x:  [0.18547169 0.50450933 1.08647362]\n",
            "paso:  11 -x:  [0.18504038 0.50473145 1.08691326]\n",
            "paso:  12 -x:  [0.18523845 0.50477844 1.08708319]\n",
            "paso:  13 -x:  [0.18531112 0.50471555 1.08694555]\n",
            "paso:  14 -x:  [0.18524978 0.50471469 1.08692711]\n",
            "x:  [0.18524978 0.50471469 1.08692711]\n",
            "b calculando:  [2.99992536 5.99985886 6.99981425]\n",
            "b verdadero:  [3 6 7]\n",
            "solucion de numpy:  [0.1852552  0.5047259  1.08695652]\n"
          ],
          "name": "stdout"
        }
      ]
    }
  ]
}