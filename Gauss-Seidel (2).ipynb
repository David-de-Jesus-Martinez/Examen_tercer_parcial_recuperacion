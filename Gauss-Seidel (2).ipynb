{
  "nbformat": 4,
  "nbformat_minor": 0,
  "metadata": {
    "colab": {
      "name": "Untitled9.ipynb",
      "provenance": []
    },
    "kernelspec": {
      "name": "python3",
      "display_name": "Python 3"
    }
  },
  "cells": [
    {
      "cell_type": "code",
      "metadata": {
        "colab": {
          "base_uri": "https://localhost:8080/"
        },
        "id": "mBTg2zSeJsER",
        "outputId": "c8b1efcf-7938-410d-b7bb-9a84d7b005d6"
      },
      "source": [
        "import numpy as np\r\n",
        "m=int(input('Valor de m:'))#renglones\r\n",
        "n=int(input('Valor de n:'))#columnas\r\n",
        "matrix = np.zeros((m,n))\r\n",
        "x=np.zeros((m))\r\n",
        "vector=np.zeros((n))\r\n",
        "comp=np.zeros((m)) #comprobacion\r\n",
        "error=[]\r\n",
        "\r\n",
        "print ('Método de Gauss-Seidel')\r\n",
        "print ('Introduce la matriz de coeficientes y el vector solución')\r\n",
        "for r in range(0,m):\r\n",
        "    for c in range(0,n):\r\n",
        "        matrix[(r),(c)]=float(input(\"Elemento a[\"+str(r+1)+\",\"+str(c+1)+\"] \"))\r\n",
        "    vector[(r)]=float(input('b['+str(r+1)+']: '))\r\n",
        "print (\"Método de Gauss-Seidel\")\r\n",
        "tol=float(input(\"¿Cual es el criterio de paro: \"))\r\n",
        "itera=int(input(\"numero maximo de iteraciones: \"))\r\n",
        "#metodo de Gauss-Seidel\r\n",
        "k=0\r\n",
        "while k< itera:\r\n",
        "    suma=0\r\n",
        "    k=k+1\r\n",
        "    for r in range(0,m):\r\n",
        "        suma=0\r\n",
        "        for c in range(0,n):\r\n",
        "            if (c != r):\r\n",
        "                suma=suma+matrix[r,c]*x[c]               \r\n",
        "        x[r]=(vector[r]-suma)/matrix[r,r]\r\n",
        "        print(\"x[\"+str(r)+\"]: \"+str(x[r]))\r\n",
        "    del error[:]\r\n",
        "\r\n",
        "    #Comprobación\r\n",
        "    for r in range(0,m):\r\n",
        "        suma=0\r\n",
        "        for c in range(0,n):\r\n",
        "                suma=suma+matrix[r,c]*x[c]\r\n",
        "        comp[r]=suma\r\n",
        "        dif=abs(comp[r]-vector[r])\r\n",
        "        error.append(dif)\r\n",
        "        print(\"error en x[\",r,\"]= \",error[r])\r\n",
        "    print(\"iteraciones: \",k)\r\n",
        "    if all(i<=tol for i in error)== True:\r\n",
        "      break\r\n",
        "print(\"Proceso terminado\")"
      ],
      "execution_count": 5,
      "outputs": [
        {
          "output_type": "stream",
          "text": [
            "Valor de m:3\n",
            "Valor de n:3\n",
            "Método de Gauss-Seidel\n",
            "Introduce la matriz de coeficientes y el vector solución\n",
            "Elemento a[1,1] 8\n",
            "Elemento a[1,2] 1\n",
            "Elemento a[1,3] 3\n",
            "b[1]: 2\n",
            "Elemento a[2,1] 1\n",
            "Elemento a[2,2] 9\n",
            "Elemento a[2,3] 7\n",
            "b[2]: 9\n",
            "Elemento a[3,1] -2\n",
            "Elemento a[3,2] 1\n",
            "Elemento a[3,3] 5\n",
            "b[3]: 7\n",
            "Método de Gauss-Seidel\n",
            "¿Cual es el criterio de paro: 0.0001\n",
            "numero maximo de iteraciones: 50\n",
            "x[0]: 0.25\n",
            "x[1]: 0.9722222222222222\n",
            "x[2]: 1.3055555555555556\n",
            "error en x[ 0 ]=  4.888888888888889\n",
            "error en x[ 1 ]=  9.13888888888889\n",
            "error en x[ 2 ]=  0.0\n",
            "iteraciones:  1\n",
            "x[0]: -0.36111111111111116\n",
            "x[1]: 0.02469135802469127\n",
            "x[2]: 1.2506172839506173\n",
            "error en x[ 0 ]=  1.1123456790123458\n",
            "error en x[ 1 ]=  0.3845679012345684\n",
            "error en x[ 2 ]=  8.881784197001252e-16\n",
            "iteraciones:  2\n",
            "x[0]: -0.22206790123456793\n",
            "x[1]: 0.05197187928669421\n",
            "x[2]: 1.300778463648834\n",
            "error en x[ 0 ]=  0.17776406035665238\n",
            "error en x[ 1 ]=  0.3511282578875168\n",
            "error en x[ 2 ]=  0.0\n",
            "iteraciones:  3\n",
            "x[0]: -0.24428840877914948\n",
            "x[1]: 0.01542657369303472\n",
            "x[2]: 1.2991993217497333\n",
            "error en x[ 0 ]=  0.04128273129096116\n",
            "error en x[ 1 ]=  0.011053993293703712\n",
            "error en x[ 2 ]=  0.0\n",
            "iteraciones:  4\n",
            "x[0]: -0.2391280673677793\n",
            "x[1]: 0.016081423902182874\n",
            "x[2]: 1.3011324882724518\n",
            "error en x[ 0 ]=  0.006454349777303747\n",
            "error en x[ 1 ]=  0.01353216565902926\n",
            "error en x[ 2 ]=  0.0\n",
            "iteraciones:  5\n",
            "x[0]: -0.23993486108994228\n",
            "x[1]: 0.01466749368697546\n",
            "x[2]: 1.301092556826628\n",
            "error en x[ 0 ]=  0.0015337245526785281\n",
            "error en x[ 1 ]=  0.00027952012076681854\n",
            "error en x[ 2 ]=  0.0\n",
            "iteraciones:  6\n",
            "x[0]: -0.23974314552085746\n",
            "x[1]: 0.014677249748273545\n",
            "x[2]: 1.3011672918420023\n",
            "error en x[ 0 ]=  0.00023396110742046616\n",
            "error en x[ 1 ]=  0.000523145107619527\n",
            "error en x[ 2 ]=  0.0\n",
            "iteraciones:  7\n",
            "x[0]: -0.23977239065928502\n",
            "x[1]: 0.014622371973918765\n",
            "x[2]: 1.3011665693415022\n",
            "error en x[ 0 ]=  5.704527585481678e-05\n",
            "error en x[ 1 ]=  5.057503500438543e-06\n",
            "error en x[ 2 ]=  0.0\n",
            "iteraciones:  8\n",
            "Proceso terminado\n"
          ],
          "name": "stdout"
        }
      ]
    },
    {
      "cell_type": "code",
      "metadata": {
        "id": "PbPAm0nZk_sG"
      },
      "source": [
        "import matplotlib.pyplot as plt"
      ],
      "execution_count": 6,
      "outputs": []
    },
    {
      "cell_type": "code",
      "metadata": {
        "colab": {
          "base_uri": "https://localhost:8080/",
          "height": 265
        },
        "id": "RQXibfJWlF8R",
        "outputId": "314bd779-99d2-4f3b-fe2d-01fc37e94cda"
      },
      "source": [
        "plt.plot(x)\r\n",
        "plt.plot(error)\r\n",
        "plt.show()"
      ],
      "execution_count": 14,
      "outputs": [
        {
          "output_type": "display_data",
          "data": {
            "image/png": "[encoded data removed]",
            "text/plain": [
              "<Figure size 432x288 with 1 Axes>"
            ]
          },
          "metadata": {
            "tags": [],
            "needs_background": "light"
          }
        }
      ]
    }
  ]
}